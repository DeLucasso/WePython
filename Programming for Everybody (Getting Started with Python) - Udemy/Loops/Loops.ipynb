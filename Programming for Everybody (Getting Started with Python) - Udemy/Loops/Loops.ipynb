{
 "cells": [
  {
   "cell_type": "code",
   "execution_count": 12,
   "metadata": {},
   "outputs": [
    {
     "name": "stdout",
     "output_type": "stream",
     "text": [
      "Seconds? 4\n",
      "4\n",
      "3\n",
      "2\n",
      "1\n",
      "Blastoff!\n",
      "0\n"
     ]
    }
   ],
   "source": [
    "n = int(input(\"How many times?? \"))\n",
    "\n",
    "while n > 0:\n",
    "    print (n)\n",
    "    n = n -1\n",
    "\n",
    "print(\"Blastoff!\")\n",
    "print(n)"
   ]
  },
  {
   "cell_type": "code",
   "execution_count": 16,
   "metadata": {},
   "outputs": [
    {
     "name": "stdout",
     "output_type": "stream",
     "text": [
      "> #\n",
      "> d\n",
      "d\n",
      "> Aho\n",
      "Aho\n",
      "> Done\n",
      "Done\n",
      "> done\n",
      "Done!\n"
     ]
    }
   ],
   "source": [
    "while True:\n",
    "    line = input(\"> \")\n",
    "    if line[0] == \"#\":\n",
    "        continue\n",
    "    if line == \"done\":\n",
    "        break\n",
    "    print(line)\n",
    "print(\"Done!\")"
   ]
  },
  {
   "cell_type": "code",
   "execution_count": 8,
   "metadata": {},
   "outputs": [
    {
     "name": "stdout",
     "output_type": "stream",
     "text": [
      "5\n",
      "4\n",
      "3\n",
      "2\n",
      "1\n",
      "BlastOff!\n"
     ]
    }
   ],
   "source": [
    "for i in [5,4,3,2,1]:\n",
    "    print(i)\n",
    "print(\"BlastOff!\")"
   ]
  },
  {
   "cell_type": "code",
   "execution_count": 15,
   "metadata": {},
   "outputs": [
    {
     "name": "stdout",
     "output_type": "stream",
     "text": [
      "Hi Lucas\n",
      "Hi Tomas\n",
      "Hi Debra\n",
      "Done\n"
     ]
    }
   ],
   "source": [
    "friends = [\"Lucas\", \"Tomas\", \"Debra\"]\n",
    "for friend in friends:\n",
    "    print (\"Hi\",friend)\n",
    "print(\"Done\")"
   ]
  },
  {
   "cell_type": "code",
   "execution_count": 17,
   "metadata": {},
   "outputs": [
    {
     "name": "stdout",
     "output_type": "stream",
     "text": [
      "Before\n",
      "9\n",
      "41\n",
      "12\n",
      "3\n",
      "74\n",
      "15\n",
      "After\n"
     ]
    }
   ],
   "source": [
    "print(\"Before\")\n",
    "for thing in [9, 41, 12, 3, 74, 15]:\n",
    "    print (thing)\n",
    "print(\"After\")"
   ]
  },
  {
   "cell_type": "code",
   "execution_count": 59,
   "metadata": {},
   "outputs": [
    {
     "name": "stdout",
     "output_type": "stream",
     "text": [
      "Before 0\n",
      "1 : 10 = -1\n",
      "2 : 3 = 10\n",
      "3 : 4 = 10\n",
      "4 : 5 = 10\n",
      "5 : 6 = 10\n",
      "6 : 7 = 10\n",
      "7 : 8 = 10\n",
      "8 : 2 = 10\n",
      "9 : 34 = 10\n",
      "10 : 36 = 34\n",
      "11 : 435 = 36\n",
      "12 : 66 = 435\n",
      "After 12\n"
     ]
    }
   ],
   "source": [
    "largest = -1\n",
    "count = 0\n",
    "print(\"Before\", count)\n",
    "for num in [10,3,4,5,6,7,8,2,34,36,435,66]:\n",
    "    count = count + 1\n",
    "    print (count,\":\", num,\"=\",largest)\n",
    "    if num > largest:\n",
    "        largest = num\n",
    "print(\"After\", count)"
   ]
  },
  {
   "cell_type": "code",
   "execution_count": 63,
   "metadata": {},
   "outputs": [
    {
     "name": "stdout",
     "output_type": "stream",
     "text": [
      "Before False\n",
      "False 9\n",
      "False 41\n",
      "False 12\n",
      "True 3\n",
      "False 74\n",
      "False 15\n",
      "After False\n"
     ]
    }
   ],
   "source": [
    "found = False\n",
    "print(\"Before\", found)\n",
    "for value in [9, 41, 12, 3, 74, 15]:\n",
    "    if value == 3:\n",
    "        found = True\n",
    "    if value != 3:\n",
    "        found = False\n",
    "    print(found, value)\n",
    "print(\"After\", found)"
   ]
  }
 ],
 "metadata": {
  "kernelspec": {
   "display_name": "Python 3",
   "language": "python",
   "name": "python3"
  },
  "language_info": {
   "codemirror_mode": {
    "name": "ipython",
    "version": 3
   },
   "file_extension": ".py",
   "mimetype": "text/x-python",
   "name": "python",
   "nbconvert_exporter": "python",
   "pygments_lexer": "ipython3",
   "version": "3.8.5"
  }
 },
 "nbformat": 4,
 "nbformat_minor": 4
}
